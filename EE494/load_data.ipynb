{
 "metadata": {
  "language_info": {
   "codemirror_mode": {
    "name": "ipython",
    "version": 3
   },
   "file_extension": ".py",
   "mimetype": "text/x-python",
   "name": "python",
   "nbconvert_exporter": "python",
   "pygments_lexer": "ipython3",
   "version": "3.8.5"
  },
  "orig_nbformat": 2,
  "kernelspec": {
   "name": "python385jvsc74a57bd00945306be6a942a31099b7a9ebeca9a514bf635cf7e8d50774cd52982403b67b",
   "display_name": "Python 3.8.5 64-bit ('base': conda)"
  },
  "metadata": {
   "interpreter": {
    "hash": "0945306be6a942a31099b7a9ebeca9a514bf635cf7e8d50774cd52982403b67b"
   }
  }
 },
 "nbformat": 4,
 "nbformat_minor": 2,
 "cells": [
  {
   "cell_type": "code",
   "execution_count": 1,
   "metadata": {},
   "outputs": [],
   "source": [
    "import pandas as pd\n",
    "import numpy as np \n",
    "from numpy import genfromtxt\n",
    "import scipy.stats as stats\n",
    "\n",
    "\n"
   ]
  },
  {
   "cell_type": "code",
   "execution_count": 11,
   "metadata": {},
   "outputs": [
    {
     "output_type": "stream",
     "name": "stdout",
     "text": [
      "[[0.40824829 0.08703883 1.87082869]\n [0.54433105 2.04541246 0.        ]\n [0.54433105 0.08703883 0.        ]\n [1.36082763 0.08703883 0.        ]\n [0.54433105 1.61021832 0.        ]\n [1.36082763 0.39167473 0.        ]\n [1.4969104  0.21759707 1.87082869]]\n(array([0, 1, 4, 6]), array([2, 1, 1, 2]))\n[False False  True  True False  True False]\n[[-7, -8, -9], [-9, -8, -9], [-9, -7, -9]]\n0.8\n"
     ]
    }
   ],
   "source": [
    "a = [[-8, -8, -8], [-7, -15, -9], [-7, -8, -9],[-9, -8, -9],[-7, -3, -9],[-9, -7, -9],[-6, -9, -10]]\n",
    "z = np.abs(stats.zscore(a,axis=0))\n",
    "print(z)\n",
    "\n",
    "print(np.where(z>1.5))\n",
    "outlier = (z < 1.5).all(axis=1)\n",
    "\n",
    "result = [x for x, y in zip(a, outlier) if y == True]\n",
    "\n",
    "print(outlier)\n",
    "print(result)\n",
    "\n",
    "b = [-8,-7,-7,-9,-7]\n",
    "print(np.std(b))\n",
    "\n",
    "# b = np.array(a)\n",
    "# b = np.mean(a,axis = 0)\n",
    "# print(b)"
   ]
  },
  {
   "cell_type": "code",
   "execution_count": 30,
   "metadata": {},
   "outputs": [
    {
     "output_type": "stream",
     "name": "stdout",
     "text": [
      "Q2 quantile of arr :  [-8.5 -8.5 -9. ]\nQ2 quantile of arr :  [-7.  -7.5 -9. ]\n[1.5 1.  0. ]\n[False, False, True, True, False, True, False]\n[[ True  True False]\n [ True False  True]\n [ True  True  True]\n [ True  True  True]\n [ True False  True]\n [ True  True  True]\n [ True  True False]]\n"
     ]
    }
   ],
   "source": [
    "a = [[-8, -8, -8], [-7, -15, -9], [-7, -8, -9],[-9, -8, -9],[-7, -3, -9],[-9, -7, -9],[-6, -9, -10]]\n",
    "Q1 = np.quantile(a, .25,axis=0)\n",
    "Q2 = np.quantile(a, .75,axis=0)\n",
    "print(\"Q2 quantile of arr : \",Q1 )\n",
    "print(\"Q2 quantile of arr : \", Q2)\n",
    "IQR = Q2 -Q1\n",
    "print(IQR)\n",
    "\n",
    "b =~((a < (Q1 - 1.5 * IQR)) |(a > (Q2+ 1.5 * IQR)))\n",
    "outlier = [ True if all(l) else False for l in b  ]\n",
    "result = [x for x, y in zip(a, outlier) if y == True]\n",
    "print(outlier)\n",
    "print(b)\n"
   ]
  },
  {
   "cell_type": "code",
   "execution_count": 68,
   "metadata": {},
   "outputs": [
    {
     "output_type": "stream",
     "name": "stdout",
     "text": [
      "      Unnamed: 0      0    1   2   3   4\n0              0    0.0  500 -41 -45 -55\n1              1    0.0  500 -41 -45 -57\n2              2    0.0  500 -41 -43 -55\n3              3    0.0  500 -45 -43 -57\n4              4    0.0  500 -45 -43 -55\n...          ...    ...  ...  ..  ..  ..\n5745        5745  327.0  731 -41 -47 -45\n5746        5746  327.0  731 -41 -47 -45\n5747        5747  327.0  731 -41 -45 -45\n5748        5748  327.0  731 -39 -45 -47\n5749        5749  327.0  731 -41 -47 -45\n\n[5750 rows x 6 columns]\n"
     ]
    }
   ],
   "source": [
    "f = \"/home/kepler42/EE494/EE494/merged.csv\"\n",
    "df = pd.read_csv(f,sep=',')\n",
    "print(df)"
   ]
  },
  {
   "cell_type": "code",
   "execution_count": 49,
   "metadata": {},
   "outputs": [],
   "source": [
    "x_y = np.asarray(df[['0','1']] )\n",
    "\n",
    "feature_cols = df.columns.to_list()\n",
    "\n",
    "feature_cols.remove('Unnamed: 0')\n",
    "x = np.asarray(df[feature_cols])"
   ]
  },
  {
   "cell_type": "code",
   "execution_count": 51,
   "metadata": {},
   "outputs": [],
   "source": [
    "dim = np.zeros((x_y.shape[0],x_y.shape[1]+1))\n",
    "dim[:,:-1] = y"
   ]
  },
  {
   "cell_type": "code",
   "execution_count": 52,
   "metadata": {},
   "outputs": [
    {
     "output_type": "execute_result",
     "data": {
      "text/plain": [
       "array([[  0., 500.,   0.],\n",
       "       [  0., 500.,   0.],\n",
       "       [  0., 500.,   0.],\n",
       "       ...,\n",
       "       [327., 731.,   0.],\n",
       "       [327., 731.,   0.],\n",
       "       [327., 731.,   0.]])"
      ]
     },
     "metadata": {},
     "execution_count": 52
    }
   ],
   "source": [
    "dim"
   ]
  },
  {
   "cell_type": "code",
   "execution_count": null,
   "metadata": {},
   "outputs": [],
   "source": []
  }
 ]
}