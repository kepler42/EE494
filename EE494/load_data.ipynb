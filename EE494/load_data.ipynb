{
 "metadata": {
  "language_info": {
   "codemirror_mode": {
    "name": "ipython",
    "version": 3
   },
   "file_extension": ".py",
   "mimetype": "text/x-python",
   "name": "python",
   "nbconvert_exporter": "python",
   "pygments_lexer": "ipython3",
   "version": "3.8.5"
  },
  "orig_nbformat": 2,
  "kernelspec": {
   "name": "python385jvsc74a57bd00945306be6a942a31099b7a9ebeca9a514bf635cf7e8d50774cd52982403b67b",
   "display_name": "Python 3.8.5 64-bit ('base': conda)"
  },
  "metadata": {
   "interpreter": {
    "hash": "0945306be6a942a31099b7a9ebeca9a514bf635cf7e8d50774cd52982403b67b"
   }
  }
 },
 "nbformat": 4,
 "nbformat_minor": 2,
 "cells": [
  {
   "cell_type": "code",
   "execution_count": 1,
   "metadata": {},
   "outputs": [],
   "source": [
    "import pandas as pd\n",
    "import numpy as np \n",
    "from numpy import genfromtxt\n",
    "import scipy.stats as stats\n",
    "\n",
    "from sklearn.preprocessing import LabelEncoder\n",
    "from sklearn.model_selection import train_test_split\n",
    "\n",
    "\n",
    "import numpy as np\n",
    "import pandas as pd\n",
    "from numpy import genfromtxt\n",
    "from sklearn.cluster import KMeans, AffinityPropagation, SpectralClustering\n",
    "from sklearn.decomposition import PCA\n",
    "from sklearn.model_selection import train_test_split\n",
    "import time\n",
    "\n",
    "from sklearn.metrics import r2_score\n",
    "from sklearn.neighbors import KNeighborsRegressor\n",
    "from sklearn.multioutput import MultiOutputRegressor\n",
    "\n",
    "from sklearn.multioutput import MultiOutputClassifier\n",
    "from sklearn.neighbors import KNeighborsClassifier\n",
    "from sklearn.metrics import accuracy_score\n",
    "\n",
    "\n",
    "from sklearn.metrics import explained_variance_score\n",
    "from sklearn.metrics import hamming_loss\n",
    "from sklearn.metrics import max_error\n",
    "\n",
    "from sklearn.metrics import mean_absolute_percentage_error\n",
    "\n",
    "import os, glob\n",
    "\n"
   ]
  },
  {
   "cell_type": "code",
   "execution_count": 48,
   "metadata": {},
   "outputs": [
    {
     "output_type": "stream",
     "name": "stdout",
     "text": [
      "[[0.70710678        nan 1.06904497]\n [0.70710678        nan 0.26726124]\n [1.41421356        nan 1.33630621]]\n"
     ]
    },
    {
     "output_type": "execute_result",
     "data": {
      "text/plain": [
       "[]"
      ]
     },
     "metadata": {},
     "execution_count": 48
    }
   ],
   "source": [
    "def z_score(data_points):\n",
    "    z_score = np.abs(stats.zscore(data_points,axis=0,nan_policy='omit'))\n",
    "    print(z_score)\n",
    "\n",
    "    outlier = (z_score < 1.6).all(axis=1) \n",
    "\n",
    "    return [x for x, y in zip(data_points, outlier) if y == True]\n",
    "\n",
    "a = [[12, 15, 13], [12, 15, 14],[14, 15, 16]]\n",
    "\n",
    "z_score(a)\n",
    "\n",
    "#mean_point = np.mean(result,axis = 0) if (len(result) !=0) else np.mean(a,axis = 0)\n",
    "\n"
   ]
  },
  {
   "cell_type": "code",
   "execution_count": 4,
   "metadata": {},
   "outputs": [],
   "source": [
    "def IQR(data_points):\n",
    "    Q1 = np.quantile(data_points, .25,axis=0)\n",
    "    Q2 = np.quantile(data_points, .75,axis=0)\n",
    "\n",
    "    IQR = Q2 -Q1\n",
    "    b =~((data_points < (Q1 - 1.5 * IQR)) |(data_points > (Q2+ 1.5 * IQR)))\n",
    "    outlier = [ True if all(l) else False for l in b  ]\n",
    "    return [x for x, y in zip(a, outlier) if y == True]\n"
   ]
  },
  {
   "cell_type": "code",
   "execution_count": 31,
   "metadata": {},
   "outputs": [
    {
     "output_type": "stream",
     "name": "stdout",
     "text": [
      "Q2 quantile of arr :  [-8.5 -8.5 -9. ]\nQ2 quantile of arr :  [-7.  -7.5 -9. ]\n[1.5 1.  0. ]\n[False, False, True, True, False, True, False]\n[[ True  True False]\n [ True False  True]\n [ True  True  True]\n [ True  True  True]\n [ True False  True]\n [ True  True  True]\n [ True  True False]]\n[[-7, -8, -9], [-9, -8, -9], [-9, -7, -9]]\n"
     ]
    }
   ],
   "source": [
    "a = [[-8, -8, -8], [-7, -15, -9], [-7, -8, -9],[-9, -8, -9],[-7, -3, -9],[-9, -7, -9],[-6, -9, -10]]\n",
    "\n",
    "result = IQR\n",
    "\n",
    "\n",
    "\n",
    "print(outlier)\n",
    "print(b)\n",
    "print(result)\n"
   ]
  },
  {
   "cell_type": "code",
   "execution_count": 5,
   "metadata": {},
   "outputs": [
    {
     "output_type": "stream",
     "name": "stdout",
     "text": [
      "[[-7, -8, -9], [-9, -8, -9], [-9, -7, -9]]\n"
     ]
    }
   ],
   "source": [
    "a = [[-8, -8, -8], [-7, -15, -9], [-7, -8, -9],[-9, -8, -9],[-7, -3, -9],[-9, -7, -9],[-6, -9, -10]]\n",
    "print(IQR(a))"
   ]
  },
  {
   "cell_type": "code",
   "execution_count": 68,
   "metadata": {},
   "outputs": [
    {
     "output_type": "stream",
     "name": "stdout",
     "text": [
      "      Unnamed: 0      0    1   2   3   4\n0              0    0.0  500 -41 -45 -55\n1              1    0.0  500 -41 -45 -57\n2              2    0.0  500 -41 -43 -55\n3              3    0.0  500 -45 -43 -57\n4              4    0.0  500 -45 -43 -55\n...          ...    ...  ...  ..  ..  ..\n5745        5745  327.0  731 -41 -47 -45\n5746        5746  327.0  731 -41 -47 -45\n5747        5747  327.0  731 -41 -45 -45\n5748        5748  327.0  731 -39 -45 -47\n5749        5749  327.0  731 -41 -47 -45\n\n[5750 rows x 6 columns]\n"
     ]
    }
   ],
   "source": [
    "f = \"/home/kepler42/EE494/EE494/merged.csv\"\n",
    "df = pd.read_csv(f,sep=',')\n",
    "print(df)"
   ]
  },
  {
   "cell_type": "code",
   "execution_count": 49,
   "metadata": {},
   "outputs": [],
   "source": [
    "x_y = np.asarray(df[['0','1']] )\n",
    "\n",
    "feature_cols = df.columns.to_list()\n",
    "\n",
    "feature_cols.remove('Unnamed: 0')\n",
    "x = np.asarray(df[feature_cols])"
   ]
  },
  {
   "cell_type": "code",
   "execution_count": 51,
   "metadata": {},
   "outputs": [],
   "source": [
    "dim = np.zeros((x_y.shape[0],x_y.shape[1]+1))\n",
    "dim[:,:-1] = y"
   ]
  },
  {
   "cell_type": "code",
   "execution_count": 52,
   "metadata": {},
   "outputs": [
    {
     "output_type": "execute_result",
     "data": {
      "text/plain": [
       "array([[  0., 500.,   0.],\n",
       "       [  0., 500.,   0.],\n",
       "       [  0., 500.,   0.],\n",
       "       ...,\n",
       "       [327., 731.,   0.],\n",
       "       [327., 731.,   0.],\n",
       "       [327., 731.,   0.]])"
      ]
     },
     "metadata": {},
     "execution_count": 52
    }
   ],
   "source": [
    "dim"
   ]
  },
  {
   "cell_type": "code",
   "execution_count": 5,
   "metadata": {},
   "outputs": [
    {
     "output_type": "stream",
     "name": "stdout",
     "text": [
      "[[-47 -45 -53]\n [-47 -45 -51]\n [-47 -45 -51]\n ...\n [-47 -49 -41]\n [-47 -47 -43]\n [-47 -45 -41]]\n[[  0. 500.]\n [  0. 500.]\n [  0. 500.]\n ...\n [327. 731.]\n [327. 731.]\n [327. 731.]]\n"
     ]
    }
   ],
   "source": [
    "\n",
    "\n",
    "path_to_data = \"/home/kepler42/EE494/EE494/Cluster/merged2.csv\"\n",
    "df = pd.read_csv(path_to_data,sep=',')\n",
    "\n",
    "feature_cols = df.columns.to_list()\n",
    "rem = ['Unnamed: 0','0','1','x_y']\n",
    "keep = ['2','3','4']\n",
    "\n",
    "x = np.asarray(df[keep])\n",
    "print(x)\n",
    "\n",
    "#x_y coordinates target vars\n",
    "x_y = np.asarray(df[['0','1']] )\n",
    "\n",
    "\n",
    "\n",
    "    \n"
   ]
  },
  {
   "cell_type": "code",
   "execution_count": 23,
   "metadata": {},
   "outputs": [
    {
     "output_type": "stream",
     "name": "stdout",
     "text": [
      "[[-45 -43 -49]\n [-39 -45 -47]\n [-41 -47 -49]\n ...\n [-35 -53 -45]\n [-51 -47 -17]\n [-39 -45 -45]] [[-45 -45 -41]\n [-49 -41 -53]\n [-39 -47 -47]\n ...\n [-49 -43 -41]\n [-47 -47 -49]\n [-55 -43 -39]]\n"
     ]
    }
   ],
   "source": [
    "method = 'knnC'\n",
    "\n",
    "if method=='knnC':\n",
    "    df[\"x_y\"] = (df[\"0\"].apply(str) +\";\"+ df[\"1\"].apply(str)).astype(\"string\")\n",
    "    x_y = np.asarray(df[['x_y']] )\n",
    "\n",
    "    \n",
    "\n",
    "x = np.asarray(df[keep])\n",
    "X_train, X_test, y_train, y_test = train_test_split(x, x_y, test_size=0.20, shuffle=True)\n",
    "\n",
    "\n"
   ]
  },
  {
   "cell_type": "code",
   "execution_count": 13,
   "metadata": {},
   "outputs": [],
   "source": [
    "class MultiColumnLabelEncoder:\n",
    "\n",
    "    def __init__(self, columns=None):\n",
    "        self.columns = columns # array of column names to encode\n",
    "\n",
    "\n",
    "    def fit(self, X, y=None):\n",
    "        self.encoders = {}\n",
    "        columns = X.columns if self.columns is None else self.columns\n",
    "        for col in columns:\n",
    "            self.encoders[col] = LabelEncoder().fit(X[col])\n",
    "        return self\n",
    "\n",
    "\n",
    "    def transform(self, X):\n",
    "        output = X.copy()\n",
    "        columns = X.columns if self.columns is None else self.columns\n",
    "        for col in columns:\n",
    "            output[col] = self.encoders[col].transform(X[col])\n",
    "        return output\n",
    "\n",
    "\n",
    "    def fit_transform(self, X, y=None):\n",
    "        return self.fit(X,y).transform(X)\n",
    "\n",
    "\n",
    "    def inverse_transform(self, X):\n",
    "        output = X.copy()\n",
    "        columns = X.columns if self.columns is None else self.columns\n",
    "        for col in columns:\n",
    "            output[col] = self.encoders[col].inverse_transform(X[col])\n",
    "        return output"
   ]
  },
  {
   "cell_type": "code",
   "execution_count": 16,
   "metadata": {},
   "outputs": [
    {
     "output_type": "execute_result",
     "data": {
      "text/plain": [
       "   Unnamed: 0    0    1   2   3   4  x_y\n",
       "0           0  0.0  500 -47 -45 -53    4\n",
       "1           1  0.0  500 -47 -45 -51    4\n",
       "2           2  0.0  500 -47 -45 -51    4\n",
       "3           3  0.0  500 -47 -45 -51    4\n",
       "4           4  0.0  500 -47 -45 -51    4"
      ],
      "text/html": "<div>\n<style scoped>\n    .dataframe tbody tr th:only-of-type {\n        vertical-align: middle;\n    }\n\n    .dataframe tbody tr th {\n        vertical-align: top;\n    }\n\n    .dataframe thead th {\n        text-align: right;\n    }\n</style>\n<table border=\"1\" class=\"dataframe\">\n  <thead>\n    <tr style=\"text-align: right;\">\n      <th></th>\n      <th>Unnamed: 0</th>\n      <th>0</th>\n      <th>1</th>\n      <th>2</th>\n      <th>3</th>\n      <th>4</th>\n      <th>x_y</th>\n    </tr>\n  </thead>\n  <tbody>\n    <tr>\n      <th>0</th>\n      <td>0</td>\n      <td>0.0</td>\n      <td>500</td>\n      <td>-47</td>\n      <td>-45</td>\n      <td>-53</td>\n      <td>4</td>\n    </tr>\n    <tr>\n      <th>1</th>\n      <td>1</td>\n      <td>0.0</td>\n      <td>500</td>\n      <td>-47</td>\n      <td>-45</td>\n      <td>-51</td>\n      <td>4</td>\n    </tr>\n    <tr>\n      <th>2</th>\n      <td>2</td>\n      <td>0.0</td>\n      <td>500</td>\n      <td>-47</td>\n      <td>-45</td>\n      <td>-51</td>\n      <td>4</td>\n    </tr>\n    <tr>\n      <th>3</th>\n      <td>3</td>\n      <td>0.0</td>\n      <td>500</td>\n      <td>-47</td>\n      <td>-45</td>\n      <td>-51</td>\n      <td>4</td>\n    </tr>\n    <tr>\n      <th>4</th>\n      <td>4</td>\n      <td>0.0</td>\n      <td>500</td>\n      <td>-47</td>\n      <td>-45</td>\n      <td>-51</td>\n      <td>4</td>\n    </tr>\n  </tbody>\n</table>\n</div>"
     },
     "metadata": {},
     "execution_count": 16
    }
   ],
   "source": [
    "multi = MultiColumnLabelEncoder(columns=['x_y'])\n",
    "df = multi.fit_transform(df)\n",
    "df.head()"
   ]
  },
  {
   "cell_type": "code",
   "execution_count": 17,
   "metadata": {},
   "outputs": [
    {
     "output_type": "execute_result",
     "data": {
      "text/plain": [
       "   Unnamed: 0    0    1   2   3   4      x_y\n",
       "0           0  0.0  500 -47 -45 -53  0.0;500\n",
       "1           1  0.0  500 -47 -45 -51  0.0;500\n",
       "2           2  0.0  500 -47 -45 -51  0.0;500\n",
       "3           3  0.0  500 -47 -45 -51  0.0;500\n",
       "4           4  0.0  500 -47 -45 -51  0.0;500"
      ],
      "text/html": "<div>\n<style scoped>\n    .dataframe tbody tr th:only-of-type {\n        vertical-align: middle;\n    }\n\n    .dataframe tbody tr th {\n        vertical-align: top;\n    }\n\n    .dataframe thead th {\n        text-align: right;\n    }\n</style>\n<table border=\"1\" class=\"dataframe\">\n  <thead>\n    <tr style=\"text-align: right;\">\n      <th></th>\n      <th>Unnamed: 0</th>\n      <th>0</th>\n      <th>1</th>\n      <th>2</th>\n      <th>3</th>\n      <th>4</th>\n      <th>x_y</th>\n    </tr>\n  </thead>\n  <tbody>\n    <tr>\n      <th>0</th>\n      <td>0</td>\n      <td>0.0</td>\n      <td>500</td>\n      <td>-47</td>\n      <td>-45</td>\n      <td>-53</td>\n      <td>0.0;500</td>\n    </tr>\n    <tr>\n      <th>1</th>\n      <td>1</td>\n      <td>0.0</td>\n      <td>500</td>\n      <td>-47</td>\n      <td>-45</td>\n      <td>-51</td>\n      <td>0.0;500</td>\n    </tr>\n    <tr>\n      <th>2</th>\n      <td>2</td>\n      <td>0.0</td>\n      <td>500</td>\n      <td>-47</td>\n      <td>-45</td>\n      <td>-51</td>\n      <td>0.0;500</td>\n    </tr>\n    <tr>\n      <th>3</th>\n      <td>3</td>\n      <td>0.0</td>\n      <td>500</td>\n      <td>-47</td>\n      <td>-45</td>\n      <td>-51</td>\n      <td>0.0;500</td>\n    </tr>\n    <tr>\n      <th>4</th>\n      <td>4</td>\n      <td>0.0</td>\n      <td>500</td>\n      <td>-47</td>\n      <td>-45</td>\n      <td>-51</td>\n      <td>0.0;500</td>\n    </tr>\n  </tbody>\n</table>\n</div>"
     },
     "metadata": {},
     "execution_count": 17
    }
   ],
   "source": [
    "inv = multi.inverse_transform(df)\n",
    "inv.head()"
   ]
  },
  {
   "cell_type": "code",
   "execution_count": 52,
   "metadata": {},
   "outputs": [],
   "source": [
    "knn = KNeighborsClassifier(n_neighbors = 8, weights='uniform', algorithm='auto')\n",
    "regr = MultiOutputClassifier(knn)\n",
    "regr.fit(X_train, y_train)\n",
    "y_pred = regr.predict(X_test)"
   ]
  },
  {
   "cell_type": "code",
   "execution_count": 83,
   "metadata": {},
   "outputs": [],
   "source": [
    "def str_to_xy(pred):\n",
    "    pred = pred.flatten()\n",
    "    \n",
    "    return np.array([list(map(float,x_y.split(';'))) for x_y in pred])"
   ]
  },
  {
   "cell_type": "code",
   "execution_count": 84,
   "metadata": {},
   "outputs": [
    {
     "output_type": "stream",
     "name": "stdout",
     "text": [
      "[[327.  731. ]\n [250.5 375. ]\n [ 90.  250. ]\n [  0.  375. ]\n [200.5 250. ]\n [200.5 250. ]\n [  0.  250. ]\n [ 90.  375. ]\n [ 90.  731. ]\n [  0.  250. ]\n [250.5 375. ]\n [200.5 375. ]\n [ 90.  625. ]\n [327.  731. ]\n [200.5 375. ]\n [  0.  375. ]\n [ 90.  125. ]\n [250.5 375. ]\n [157.5   0. ]\n [ 90.  250. ]\n [  0.    0. ]\n [ 90.  625. ]\n [  0.  375. ]\n [  0.  125. ]\n [ 90.  625. ]\n [ 90.  125. ]\n [327.  731. ]\n [ 90.  375. ]\n [  0.  375. ]\n [  0.  250. ]\n [  0.  375. ]\n [157.5   0. ]\n [157.5   0. ]\n [200.5 500. ]\n [ 90.  250. ]\n [ 90.  625. ]\n [157.5   0. ]\n [ 90.  625. ]\n [200.5 250. ]\n [ 90.  731. ]\n [284.  500. ]\n [ 90.  731. ]\n [200.5 500. ]\n [200.5 500. ]\n [316.6 625. ]\n [157.5   0. ]\n [ 90.  125. ]\n [ 90.  731. ]\n [ 90.    0. ]\n [200.5 250. ]\n [ 90.  250. ]\n [ 90.  250. ]\n [200.5 250. ]\n [200.5 731. ]\n [200.5 500. ]\n [187.1 125. ]\n [327.  731. ]\n [327.  731. ]\n [  0.  500. ]\n [200.5 250. ]\n [187.1 125. ]\n [200.5 250. ]\n [187.1 125. ]\n [ 90.  731. ]\n [  0.    0. ]\n [ 90.    0. ]\n [157.5   0. ]\n [200.5 625. ]\n [200.5 500. ]\n [ 90.  625. ]\n [ 90.  250. ]\n [200.5 250. ]\n [ 90.    0. ]\n [ 90.  731. ]\n [187.1 125. ]\n [200.5 375. ]\n [ 90.  250. ]\n [284.  500. ]\n [  0.  250. ]\n [ 90.  250. ]\n [ 90.  125. ]\n [200.5 500. ]\n [ 90.  125. ]\n [  0.  500. ]\n [  0.  250. ]\n [  0.  500. ]\n [  0.  250. ]\n [ 90.  125. ]\n [ 90.  250. ]\n [316.6 625. ]\n [187.1 125. ]\n [200.5 731. ]\n [316.6 625. ]\n [ 90.  250. ]\n [200.5 731. ]\n [200.5 625. ]\n [250.5 375. ]\n [200.5 500. ]\n [187.1 125. ]\n [ 90.  625. ]\n [ 90.    0. ]\n [316.6 625. ]\n [ 90.  250. ]\n [200.5 375. ]\n [  0.    0. ]\n [157.5   0. ]\n [  0.    0. ]\n [ 90.  500. ]\n [200.5 625. ]\n [250.5 375. ]\n [200.5 731. ]\n [327.  731. ]\n [200.5 500. ]\n [  0.  125. ]\n [200.5 250. ]\n [250.5 375. ]\n [ 90.    0. ]\n [  0.  500. ]\n [  0.    0. ]\n [ 90.  250. ]\n [  0.    0. ]\n [  0.    0. ]\n [157.5   0. ]\n [ 90.  250. ]\n [284.  500. ]\n [  0.  250. ]\n [  0.  375. ]\n [  0.  500. ]\n [ 90.  250. ]\n [ 90.  625. ]\n [200.5 731. ]\n [250.5 375. ]\n [  0.  250. ]\n [200.5 625. ]\n [ 90.  125. ]\n [327.  731. ]\n [284.  500. ]\n [316.6 625. ]\n [  0.  500. ]\n [  0.  125. ]\n [ 90.  250. ]\n [  0.  250. ]\n [316.6 625. ]\n [  0.  250. ]\n [ 90.  500. ]\n [ 90.  250. ]\n [ 90.  731. ]\n [316.6 625. ]\n [ 90.  500. ]\n [  0.    0. ]\n [  0.  500. ]\n [  0.  125. ]\n [250.5 375. ]\n [ 90.  625. ]\n [200.5 250. ]\n [187.1 125. ]\n [ 90.  500. ]\n [  0.  250. ]\n [284.  500. ]\n [  0.  500. ]\n [157.5   0. ]\n [ 90.  625. ]\n [ 90.  250. ]\n [284.  500. ]\n [ 90.  125. ]\n [316.6 625. ]\n [  0.  375. ]\n [  0.  250. ]\n [ 90.  125. ]\n [ 90.  731. ]\n [200.5 250. ]\n [327.  731. ]\n [316.6 625. ]\n [  0.  125. ]\n [  0.  125. ]\n [200.5 500. ]\n [200.5 500. ]\n [200.5 375. ]\n [ 90.  625. ]\n [200.5 375. ]\n [  0.  250. ]\n [ 90.  500. ]\n [327.  731. ]\n [200.5 625. ]\n [ 90.  731. ]\n [187.1 125. ]\n [200.5 250. ]\n [327.  731. ]\n [ 90.  125. ]\n [316.6 625. ]\n [200.5 375. ]\n [ 90.  625. ]\n [  0.  375. ]\n [ 90.  250. ]\n [ 90.  731. ]\n [200.5 625. ]\n [157.5   0. ]\n [200.5 375. ]\n [200.5 625. ]\n [ 90.  500. ]\n [200.5 500. ]\n [  0.  375. ]\n [  0.    0. ]\n [  0.  375. ]\n [  0.  500. ]\n [250.5 375. ]\n [327.  731. ]\n [187.1 125. ]\n [  0.    0. ]\n [ 90.  125. ]\n [  0.  250. ]\n [284.  500. ]\n [200.5 250. ]\n [ 90.  500. ]\n [  0.    0. ]\n [250.5 375. ]\n [  0.  375. ]\n [  0.  125. ]\n [187.1 125. ]\n [327.  731. ]\n [250.5 375. ]\n [250.5 375. ]\n [250.5 375. ]\n [ 90.    0. ]\n [ 90.  125. ]\n [  0.  375. ]\n [  0.  250. ]\n [284.  500. ]\n [ 90.    0. ]\n [  0.  250. ]\n [  0.  500. ]\n [ 90.  375. ]\n [200.5 500. ]\n [ 90.  500. ]\n [  0.  250. ]\n [ 90.  731. ]\n [327.  731. ]\n [ 90.    0. ]\n [200.5 625. ]\n [157.5   0. ]\n [  0.  375. ]\n [ 90.  375. ]\n [ 90.    0. ]\n [284.  500. ]\n [ 90.    0. ]\n [ 90.  731. ]\n [316.6 625. ]\n [316.6 625. ]\n [284.  500. ]\n [  0.  375. ]\n [187.1 125. ]\n [200.5 375. ]\n [157.5   0. ]\n [ 90.  125. ]\n [ 90.    0. ]\n [  0.  250. ]\n [284.  500. ]\n [ 90.  375. ]\n [250.5 375. ]\n [200.5 500. ]\n [157.5   0. ]\n [ 90.    0. ]\n [327.  731. ]\n [ 90.  250. ]\n [ 90.  731. ]\n [ 90.  625. ]\n [200.5 625. ]\n [ 90.  125. ]\n [  0.    0. ]\n [284.  500. ]\n [ 90.  731. ]\n [ 90.  625. ]\n [  0.  250. ]\n [  0.  500. ]\n [  0.  375. ]\n [200.5 500. ]\n [200.5 375. ]\n [157.5   0. ]\n [250.5 375. ]\n [316.6 625. ]\n [ 90.  731. ]\n [200.5 500. ]\n [200.5 731. ]\n [ 90.  375. ]\n [ 90.  500. ]\n [ 90.  375. ]\n [  0.  125. ]\n [  0.  375. ]\n [200.5 625. ]\n [ 90.    0. ]\n [  0.  125. ]\n [ 90.    0. ]\n [250.5 375. ]\n [  0.  125. ]\n [  0.  125. ]\n [200.5 250. ]\n [200.5 250. ]\n [ 90.  375. ]\n [ 90.  125. ]\n [200.5 375. ]\n [  0.  250. ]\n [250.5 375. ]\n [  0.  125. ]\n [ 90.  625. ]\n [284.  500. ]\n [  0.    0. ]\n [327.  731. ]\n [200.5 250. ]\n [ 90.  250. ]\n [  0.  375. ]\n [ 90.  500. ]\n [187.1 125. ]\n [327.  731. ]\n [200.5 731. ]\n [ 90.  625. ]\n [ 90.  731. ]\n [200.5 731. ]\n [200.5 250. ]\n [ 90.  250. ]\n [ 90.  625. ]\n [  0.  125. ]\n [  0.  375. ]\n [200.5 375. ]\n [  0.  375. ]\n [200.5 731. ]\n [284.  500. ]\n [ 90.  625. ]\n [  0.    0. ]\n [327.  731. ]\n [200.5 731. ]\n [157.5   0. ]\n [200.5 731. ]\n [ 90.  731. ]\n [200.5 731. ]\n [284.  500. ]\n [200.5 375. ]\n [200.5 731. ]\n [ 90.    0. ]\n [ 90.  625. ]\n [ 90.  625. ]\n [  0.    0. ]\n [ 90.  625. ]\n [200.5 375. ]\n [ 90.    0. ]\n [327.  731. ]\n [284.  500. ]\n [157.5   0. ]\n [284.  500. ]\n [200.5 250. ]\n [284.  500. ]\n [200.5 375. ]\n [ 90.  250. ]\n [  0.  125. ]\n [284.  500. ]\n [ 90.  500. ]\n [ 90.  731. ]\n [187.1 125. ]\n [200.5 375. ]\n [  0.  125. ]\n [  0.  125. ]\n [187.1 125. ]\n [ 90.  625. ]\n [250.5 375. ]\n [  0.  500. ]\n [200.5 500. ]\n [ 90.  375. ]\n [  0.  250. ]\n [200.5 731. ]\n [  0.  250. ]\n [187.1 125. ]\n [316.6 625. ]\n [200.5 500. ]\n [  0.  250. ]\n [157.5   0. ]\n [200.5 625. ]\n [157.5   0. ]\n [284.  500. ]\n [  0.  250. ]\n [  0.    0. ]\n [284.  500. ]\n [ 90.  500. ]\n [250.5 375. ]\n [ 90.  500. ]\n [187.1 125. ]\n [ 90.  625. ]\n [316.6 625. ]\n [187.1 125. ]\n [ 90.  500. ]\n [ 90.  125. ]\n [ 90.  625. ]\n [200.5 500. ]\n [ 90.  500. ]\n [ 90.  500. ]\n [ 90.  250. ]\n [  0.  375. ]\n [  0.  375. ]\n [  0.  125. ]\n [200.5 500. ]\n [250.5 375. ]\n [ 90.    0. ]\n [ 90.  125. ]\n [200.5 375. ]\n [  0.  250. ]\n [  0.  500. ]\n [187.1 125. ]\n [200.5 250. ]\n [  0.  500. ]\n [200.5 250. ]\n [200.5 375. ]\n [200.5 375. ]\n [ 90.  250. ]\n [  0.  125. ]\n [157.5   0. ]\n [  0.  125. ]\n [200.5 731. ]\n [200.5 250. ]\n [  0.  375. ]\n [187.1 125. ]\n [ 90.  375. ]\n [ 90.  250. ]\n [ 90.    0. ]\n [157.5   0. ]\n [250.5 375. ]\n [157.5   0. ]\n [316.6 625. ]\n [200.5 250. ]\n [  0.  125. ]\n [ 90.  731. ]\n [  0.  250. ]\n [ 90.  125. ]\n [200.5 375. ]\n [ 90.  500. ]\n [  0.  375. ]\n [  0.  250. ]\n [157.5   0. ]\n [  0.  125. ]\n [  0.  250. ]\n [  0.  250. ]\n [200.5 500. ]\n [200.5 625. ]\n [157.5   0. ]\n [  0.  500. ]\n [  0.  375. ]\n [ 90.  500. ]\n [284.  500. ]\n [ 90.  250. ]\n [284.  500. ]\n [250.5 375. ]\n [ 90.  731. ]\n [ 90.  731. ]\n [284.  500. ]\n [  0.  125. ]\n [327.  731. ]\n [187.1 125. ]\n [200.5 500. ]\n [ 90.  625. ]\n [250.5 375. ]\n [316.6 625. ]\n [ 90.  375. ]\n [200.5 625. ]]\n"
     ]
    }
   ],
   "source": [
    "# print(y_pred)\n",
    "\n",
    "\n",
    "#print(y_pred)\n",
    "q = str_to_xy(y_pred)\n",
    "print(q)\n",
    "\n",
    "\n",
    "\n"
   ]
  },
  {
   "cell_type": "code",
   "execution_count": null,
   "metadata": {},
   "outputs": [],
   "source": []
  },
  {
   "cell_type": "code",
   "execution_count": null,
   "metadata": {},
   "outputs": [],
   "source": []
  }
 ]
}