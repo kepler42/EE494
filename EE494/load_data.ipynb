{
 "metadata": {
  "language_info": {
   "codemirror_mode": {
    "name": "ipython",
    "version": 3
   },
   "file_extension": ".py",
   "mimetype": "text/x-python",
   "name": "python",
   "nbconvert_exporter": "python",
   "pygments_lexer": "ipython3",
   "version": "3.8.5"
  },
  "orig_nbformat": 2,
  "kernelspec": {
   "name": "python385jvsc74a57bd00945306be6a942a31099b7a9ebeca9a514bf635cf7e8d50774cd52982403b67b",
   "display_name": "Python 3.8.5 64-bit ('base': conda)"
  },
  "metadata": {
   "interpreter": {
    "hash": "0945306be6a942a31099b7a9ebeca9a514bf635cf7e8d50774cd52982403b67b"
   }
  }
 },
 "nbformat": 4,
 "nbformat_minor": 2,
 "cells": [
  {
   "cell_type": "code",
   "execution_count": 30,
   "metadata": {},
   "outputs": [],
   "source": [
    "import pandas as pd\n",
    "import numpy as np \n",
    "from numpy import genfromtxt\n",
    "import scipy.stats as stats\n",
    "\n",
    "\n"
   ]
  },
  {
   "cell_type": "code",
   "execution_count": 69,
   "metadata": {},
   "outputs": [
    {
     "output_type": "stream",
     "name": "stdout",
     "text": [
      "[[1.41421356 0.70710678 1.41421356]\n [0.70710678 1.41421356 0.70710678]\n [0.70710678 0.70710678 0.70710678]]\n(array([], dtype=int64), array([], dtype=int64))\n[ True  True False False]\n[[-8, -8, -8], [-7, -888, -9], [-7, -8, -9]]\n"
     ]
    }
   ],
   "source": [
    "a = [[-8, -8, -8], [-7, -888, -9], [-7, -8, -9]]\n",
    "z = np.abs(stats.zscore(a,axis=0))\n",
    "print(z)\n",
    "\n",
    "print(np.where(z>1.5))\n",
    "outlier = (z < 1.5).all(axis=1)\n",
    "\n",
    "result = [x for x, y in zip(a, outlier) if y == True]\n",
    "\n",
    "print(new)\n",
    "print(result)\n",
    "\n",
    "# b = [7, 4, 1, 75]\n",
    "# print(np.std(b))\n",
    "\n",
    "# b = np.array(a)\n",
    "# b = np.mean(a,axis = 0)\n",
    "# print(b)"
   ]
  },
  {
   "cell_type": "code",
   "execution_count": 68,
   "metadata": {},
   "outputs": [
    {
     "output_type": "stream",
     "name": "stdout",
     "text": [
      "      Unnamed: 0      0    1   2   3   4\n0              0    0.0  500 -41 -45 -55\n1              1    0.0  500 -41 -45 -57\n2              2    0.0  500 -41 -43 -55\n3              3    0.0  500 -45 -43 -57\n4              4    0.0  500 -45 -43 -55\n...          ...    ...  ...  ..  ..  ..\n5745        5745  327.0  731 -41 -47 -45\n5746        5746  327.0  731 -41 -47 -45\n5747        5747  327.0  731 -41 -45 -45\n5748        5748  327.0  731 -39 -45 -47\n5749        5749  327.0  731 -41 -47 -45\n\n[5750 rows x 6 columns]\n"
     ]
    }
   ],
   "source": [
    "f = \"/home/kepler42/EE494/EE494/merged.csv\"\n",
    "df = pd.read_csv(f,sep=',')\n",
    "print(df)"
   ]
  },
  {
   "cell_type": "code",
   "execution_count": 49,
   "metadata": {},
   "outputs": [],
   "source": [
    "x_y = np.asarray(df[['0','1']] )\n",
    "\n",
    "feature_cols = df.columns.to_list()\n",
    "\n",
    "feature_cols.remove('Unnamed: 0')\n",
    "x = np.asarray(df[feature_cols])"
   ]
  },
  {
   "cell_type": "code",
   "execution_count": 51,
   "metadata": {},
   "outputs": [],
   "source": [
    "dim = np.zeros((x_y.shape[0],x_y.shape[1]+1))\n",
    "dim[:,:-1] = y"
   ]
  },
  {
   "cell_type": "code",
   "execution_count": 52,
   "metadata": {},
   "outputs": [
    {
     "output_type": "execute_result",
     "data": {
      "text/plain": [
       "array([[  0., 500.,   0.],\n",
       "       [  0., 500.,   0.],\n",
       "       [  0., 500.,   0.],\n",
       "       ...,\n",
       "       [327., 731.,   0.],\n",
       "       [327., 731.,   0.],\n",
       "       [327., 731.,   0.]])"
      ]
     },
     "metadata": {},
     "execution_count": 52
    }
   ],
   "source": [
    "dim"
   ]
  },
  {
   "cell_type": "code",
   "execution_count": null,
   "metadata": {},
   "outputs": [],
   "source": []
  }
 ]
}